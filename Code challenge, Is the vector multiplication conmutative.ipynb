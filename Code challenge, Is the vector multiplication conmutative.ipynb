{
 "cells": [
  {
   "cell_type": "markdown",
   "metadata": {},
   "source": [
    "# Is dot product conmutative?\n",
    "Generate 2 100-element  , compute the product a,b then b,a\n",
    "Then generate 2 2-element random row vectors and repeat"
   ]
  },
  {
   "cell_type": "code",
   "execution_count": 6,
   "metadata": {
    "scrolled": true
   },
   "outputs": [],
   "source": [
    "import numpy as np\n",
    "import pandas as pd\n",
    "\n",
    "vector1 = np.random.randint(100, size=(100, 1))\n",
    "vector2 = np.random.randint(100, size=(100, 1))\n",
    "#define the matrix that will store the results.\n",
    "\n",
    "v1_dot_v2 = []\n",
    "v2_dot_v1 = []"
   ]
  },
  {
   "cell_type": "code",
   "execution_count": 33,
   "metadata": {
    "scrolled": true
   },
   "outputs": [
    {
     "name": "stdout",
     "output_type": "stream",
     "text": [
      "[[218867]]\n",
      "[[218867]]\n"
     ]
    },
    {
     "data": {
      "text/plain": [
       "True"
      ]
     },
     "execution_count": 33,
     "metadata": {},
     "output_type": "execute_result"
    }
   ],
   "source": [
    "#multiplication betweeen v1 and v2\n",
    "v1_dot_v2 = np.dot(vector1.T,vector2)\n",
    "v2_dot_v1 = np.dot(vector2.T,vector1)\n",
    "\n",
    "\n",
    "print(v1_dot_v2)\n",
    "print(v2_dot_v1)\n",
    "\n",
    "#comparison\n",
    "compare = v1_dot_v2 == v2_dot_v1\n",
    "compare.all()\n"
   ]
  },
  {
   "cell_type": "code",
   "execution_count": 34,
   "metadata": {
    "scrolled": true
   },
   "outputs": [
    {
     "data": {
      "text/plain": [
       "False"
      ]
     },
     "execution_count": 34,
     "metadata": {},
     "output_type": "execute_result"
    }
   ],
   "source": [
    "vector3 = np.random.randint(100, size=(2, 1))\n",
    "vector4 = np.random.randint(100, size=(2, 1))\n",
    "\n",
    "v3_dot_v4 = np.dot(vector3,vector4.T)\n",
    "v4_dot_v3 = np.dot(vector4,vector3.T)\n",
    "\n",
    "compare2 = v3_dot_v4 == v4_dot_v3\n",
    "compare2.all()\n"
   ]
  },
  {
   "cell_type": "code",
   "execution_count": 31,
   "metadata": {
    "scrolled": true
   },
   "outputs": [
    {
     "name": "stdout",
     "output_type": "stream",
     "text": [
      "22.21004286730176\n",
      "22.21004286730176\n"
     ]
    }
   ],
   "source": [
    "vector_x = np.random.rand(100)\n",
    "vector_y = np.random.rand(100)\n",
    "x_y = np.dot(vector_x,vector_y)\n",
    "y_x = np.dot(vector_y,vector_x)\n",
    "\n",
    "print(x_y)\n",
    "print(y_x)"
   ]
  },
  {
   "cell_type": "code",
   "execution_count": null,
   "metadata": {},
   "outputs": [],
   "source": []
  },
  {
   "cell_type": "code",
   "execution_count": null,
   "metadata": {},
   "outputs": [],
   "source": []
  }
 ],
 "metadata": {
  "kernelspec": {
   "display_name": "Python 3",
   "language": "python",
   "name": "python3"
  },
  "language_info": {
   "codemirror_mode": {
    "name": "ipython",
    "version": 3
   },
   "file_extension": ".py",
   "mimetype": "text/x-python",
   "name": "python",
   "nbconvert_exporter": "python",
   "pygments_lexer": "ipython3",
   "version": "3.7.6"
  }
 },
 "nbformat": 4,
 "nbformat_minor": 4
}
