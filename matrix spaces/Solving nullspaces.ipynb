{
 "cells": [
  {
   "cell_type": "code",
   "execution_count": 11,
   "metadata": {},
   "outputs": [],
   "source": [
    "import numpy as np\n",
    "import matplotlib.pyplot as plt\n",
    "import math\n",
    "from sympy import * "
   ]
  },
  {
   "cell_type": "code",
   "execution_count": 14,
   "metadata": {},
   "outputs": [
    {
     "name": "stdout",
     "output_type": "stream",
     "text": [
      "2\n"
     ]
    }
   ],
   "source": [
    "#which of the following vectors generate R3?\n",
    "\n",
    "v1 = [1,2,-1]\n",
    "v2 = [6,3,0]\n",
    "v3 = [4,-1,2]\n",
    "v4 = [2,-5,4]\n",
    "triv = np.array([0,0,0]).T\n",
    "\n",
    "matrix = np.array([v1,v2,v3,v4]).T\n",
    "\n",
    "#testing using the Matrix Rank\n",
    "print(np.linalg.matrix_rank(matrix, tol=None, hermitian=False))\n",
    "#The answer is 2. Meaning that the vectors are spanning an R2 plane\n",
    "\n",
    "#Testing against the reduced form of a Matrix\n"
   ]
  },
  {
   "cell_type": "code",
   "execution_count": 15,
   "metadata": {},
   "outputs": [
    {
     "name": "stdout",
     "output_type": "stream",
     "text": [
      "3\n"
     ]
    }
   ],
   "source": [
    "v1 = [2,2,3]\n",
    "v2 = [-1,2,1]\n",
    "v3 = [0,1,0]\n",
    "\n",
    "matrix = np.array([v1,v2,v3,v4]).T\n",
    "\n",
    "print(np.linalg.matrix_rank(matrix, tol=None, hermitian=False))"
   ]
  },
  {
   "cell_type": "code",
   "execution_count": 26,
   "metadata": {},
   "outputs": [
    {
     "name": "stdout",
     "output_type": "stream",
     "text": [
      "2\n"
     ]
    }
   ],
   "source": [
    "A = [[1,2,0,1],[1,1,1,2],[2,-1,5,7],[0,2,-2,-2]]\n",
    "print(np.linalg.matrix_rank(A, tol=None, hermitian=False))"
   ]
  },
  {
   "cell_type": "code",
   "execution_count": 29,
   "metadata": {},
   "outputs": [
    {
     "data": {
      "text/plain": [
       "[Matrix([\n",
       " [-2],\n",
       " [ 1],\n",
       " [ 1],\n",
       " [ 0]]),\n",
       " Matrix([\n",
       " [-3],\n",
       " [ 1],\n",
       " [ 0],\n",
       " [ 1]])]"
      ]
     },
     "execution_count": 29,
     "metadata": {},
     "output_type": "execute_result"
    }
   ],
   "source": [
    "A = Matrix(A)\n",
    "A.nullspace()"
   ]
  },
  {
   "cell_type": "code",
   "execution_count": null,
   "metadata": {},
   "outputs": [],
   "source": []
  },
  {
   "cell_type": "code",
   "execution_count": null,
   "metadata": {},
   "outputs": [],
   "source": []
  }
 ],
 "metadata": {
  "kernelspec": {
   "display_name": "Python 3",
   "language": "python",
   "name": "python3"
  },
  "language_info": {
   "codemirror_mode": {
    "name": "ipython",
    "version": 3
   },
   "file_extension": ".py",
   "mimetype": "text/x-python",
   "name": "python",
   "nbconvert_exporter": "python",
   "pygments_lexer": "ipython3",
   "version": "3.7.6"
  }
 },
 "nbformat": 4,
 "nbformat_minor": 4
}
