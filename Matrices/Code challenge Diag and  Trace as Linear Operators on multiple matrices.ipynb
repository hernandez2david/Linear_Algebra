{
 "cells": [
  {
   "cell_type": "markdown",
   "metadata": {},
   "source": [
    "# Code Challenge, determine if trace and diag of a Matrix are linear operators"
   ]
  },
  {
   "cell_type": "code",
   "execution_count": null,
   "metadata": {},
   "outputs": [],
   "source": [
    "import numpy as np\n",
    "import pandas as pd\n"
   ]
  },
  {
   "cell_type": "code",
   "execution_count": 14,
   "metadata": {
    "scrolled": true
   },
   "outputs": [
    {
     "name": "stdout",
     "output_type": "stream",
     "text": [
      "435\n",
      "435\n"
     ]
    }
   ],
   "source": [
    "#Create 2 matrices and prove that: Tr(A)+ Tr(B) = Tr(A+B)\n",
    "\n",
    "Matrix1 = np.random.randint(100, size=(4, 4))\n",
    "Matrix2 = np.random.randint(100, size=(4, 4))\n",
    "trace_M1 = np.trace(Matrix1)\n",
    "trace_M2 = np.trace(Matrix2)\n",
    "trace_M12 = np.trace(Matrix1+Matrix2)\n",
    "\n",
    "\n",
    "print(trace_M1+trace_M2)\n",
    "\n",
    "print(trace_M12)\n",
    "\n",
    "#Trace can only be computed for square matrices. Be careful because python does not show an error if the matrix is not a square matrix\n"
   ]
  },
  {
   "cell_type": "code",
   "execution_count": 15,
   "metadata": {},
   "outputs": [
    {
     "name": "stdout",
     "output_type": "stream",
     "text": [
      "2200\n",
      "2200\n"
     ]
    }
   ],
   "source": [
    "#Proof that Tr(lA) = l*Tr(A)\n",
    "scalar = 10\n",
    "\n",
    "print(trace_M1*10)\n",
    "trace_M1Xscalar = np.trace(Matrix1*scalar)\n",
    "print(trace_M1Xscalar)"
   ]
  },
  {
   "cell_type": "code",
   "execution_count": 2,
   "metadata": {},
   "outputs": [],
   "source": [
    "#conclusion: Trace operation is a linear operator, and because of that, both cuantities are the same in both excercises\n",
    "# Linear operators explanation https://www.youtube.com/watch?v=RIB_sr0vMGQ\n"
   ]
  },
  {
   "cell_type": "code",
   "execution_count": null,
   "metadata": {},
   "outputs": [],
   "source": []
  }
 ],
 "metadata": {
  "kernelspec": {
   "display_name": "Python 3",
   "language": "python",
   "name": "python3"
  },
  "language_info": {
   "codemirror_mode": {
    "name": "ipython",
    "version": 3
   },
   "file_extension": ".py",
   "mimetype": "text/x-python",
   "name": "python",
   "nbconvert_exporter": "python",
   "pygments_lexer": "ipython3",
   "version": "3.7.6"
  }
 },
 "nbformat": 4,
 "nbformat_minor": 4
}
