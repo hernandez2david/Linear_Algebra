{
 "cells": [
  {
   "cell_type": "code",
   "execution_count": 3,
   "metadata": {},
   "outputs": [],
   "source": [
    "import numpy as np\n",
    "import pandas as pd"
   ]
  },
  {
   "cell_type": "code",
   "execution_count": 46,
   "metadata": {
    "scrolled": true
   },
   "outputs": [
    {
     "name": "stdout",
     "output_type": "stream",
     "text": [
      "[[78 78 30 ... 99 53 10]\n",
      " [42  3 55 ... 22 29 84]\n",
      " [87 37 22 ...  8 47 11]\n",
      " ...\n",
      " [87 28 74 ... 83 45 38]\n",
      " [43 86 57 ... 68 54 65]\n",
      " [98 21 39 ...  9 16 77]]\n",
      "[[ 1.29509018e+220 -1.64099389e+218 -4.04425011e+219 ... -5.90048255e+218\n",
      "   7.86730429e+218 -1.09883606e+220]\n",
      " [ 1.66711785e+220  4.53448447e+220 -1.90556226e+220 ... -2.93557625e+220\n",
      "  -2.53756790e+220  4.86488175e+219]\n",
      " [ 2.18202989e+219  3.01606808e+219  1.28065651e+220 ...  6.37482130e+219\n",
      "   1.06563421e+220  5.87259737e+219]\n",
      " ...\n",
      " [-1.57368457e+220 -2.63889155e+220  1.32746873e+220 ...  2.68850719e+220\n",
      "   1.02117650e+220  1.63967281e+220]\n",
      " [ 7.40942579e+219 -1.06106014e+220 -1.01074986e+219 ...  2.83602034e+218\n",
      "   5.48768562e+219 -2.91063372e+219]\n",
      " [-5.67754919e+219 -3.66274327e+220 -3.82664131e+218 ...  7.90095642e+219\n",
      "   9.16814222e+219 -2.71143953e+220]] [[ 1. -1.  1. ...  1. -1.  1.]\n",
      " [-1.  1. -1. ... -1.  1. -1.]\n",
      " [ 1. -1.  1. ...  1. -1.  1.]\n",
      " ...\n",
      " [ 1. -1.  1. ...  1. -1.  1.]\n",
      " [-1.  1. -1. ... -1.  1. -1.]\n",
      " [ 1. -1.  1. ...  1. -1.  1.]]\n",
      "[[ 3.35940325e-03 -4.32442561e-03  5.66008332e-04 ... -4.08206406e-03\n",
      "  -1.92197034e-03 -1.47272966e-03]\n",
      " [ 4.25666127e-05  1.17622403e-02 -7.82353930e-04 ...  6.84516105e-03\n",
      "  -2.75234030e-03  9.50098446e-03]\n",
      " [-1.04905953e-03  4.94293924e-03  3.32196299e-03 ...  3.44339170e-03\n",
      "   2.62183780e-04 -9.92612828e-05]\n",
      " ...\n",
      " [-1.53055753e-04  7.61474727e-03  1.65359878e-03 ...  6.97386171e-03\n",
      "  -7.35650392e-05  2.04947108e-03]\n",
      " [-2.04074188e-04 -6.58233226e-03 -2.76420521e-03 ... -2.64888401e-03\n",
      "   1.42347994e-03 -2.37817314e-03]\n",
      " [-2.85032927e-03 -1.26192754e-03  1.52332425e-03 ...  4.25323446e-03\n",
      "   7.55004752e-04 -7.03334711e-03]]\n"
     ]
    }
   ],
   "source": [
    "size = 99\n",
    "Matrix1 = np.random.randint(100, size=(size, size))\n",
    "minors_matrix = np.eye(size)\n",
    "\n",
    "cofactors_matrix = np.empty([size, size])\n",
    "unos = -1\n",
    "print(Matrix1)\n",
    "determinant = np.linalg.det(Matrix1)\n",
    "if determinant == 0:\n",
    "    print(\"Matrix has no inverse\")\n",
    "else:\n",
    "    for i in range(size):\n",
    "        for j in range(size):\n",
    "            unos = unos*(-1)            \n",
    "            cofactors_matrix[i][j] = unos\n",
    "            \n",
    "            temporary = np.delete(Matrix1, i, 0)\n",
    "            temporary = np.delete(temporary, j, 1)\n",
    "            minors_matrix[i][j] = np.linalg.det(temporary)\n",
    "\n",
    "print(minors_matrix , cofactors_matrix)\n",
    "H = np.multiply(minors_matrix,cofactors_matrix) \n",
    "inverse_matrix = H.T * (determinant**-1)\n",
    "print(inverse_matrix)"
   ]
  },
  {
   "cell_type": "code",
   "execution_count": 47,
   "metadata": {},
   "outputs": [
    {
     "data": {
      "text/plain": [
       "array([[ 3.35940325e-03, -4.32442561e-03,  5.66008332e-04, ...,\n",
       "        -4.08206406e-03, -1.92197034e-03, -1.47272966e-03],\n",
       "       [ 4.25666127e-05,  1.17622403e-02, -7.82353930e-04, ...,\n",
       "         6.84516105e-03, -2.75234030e-03,  9.50098446e-03],\n",
       "       [-1.04905953e-03,  4.94293924e-03,  3.32196299e-03, ...,\n",
       "         3.44339170e-03,  2.62183780e-04, -9.92612828e-05],\n",
       "       ...,\n",
       "       [-1.53055753e-04,  7.61474727e-03,  1.65359878e-03, ...,\n",
       "         6.97386171e-03, -7.35650392e-05,  2.04947108e-03],\n",
       "       [-2.04074188e-04, -6.58233226e-03, -2.76420521e-03, ...,\n",
       "        -2.64888401e-03,  1.42347994e-03, -2.37817314e-03],\n",
       "       [-2.85032927e-03, -1.26192754e-03,  1.52332425e-03, ...,\n",
       "         4.25323446e-03,  7.55004752e-04, -7.03334711e-03]])"
      ]
     },
     "execution_count": 47,
     "metadata": {},
     "output_type": "execute_result"
    }
   ],
   "source": [
    "np.linalg.inv(Matrix1)"
   ]
  },
  {
   "cell_type": "code",
   "execution_count": null,
   "metadata": {},
   "outputs": [],
   "source": []
  },
  {
   "cell_type": "code",
   "execution_count": null,
   "metadata": {},
   "outputs": [],
   "source": []
  }
 ],
 "metadata": {
  "kernelspec": {
   "display_name": "Python 3",
   "language": "python",
   "name": "python3"
  },
  "language_info": {
   "codemirror_mode": {
    "name": "ipython",
    "version": 3
   },
   "file_extension": ".py",
   "mimetype": "text/x-python",
   "name": "python",
   "nbconvert_exporter": "python",
   "pygments_lexer": "ipython3",
   "version": "3.7.6"
  }
 },
 "nbformat": 4,
 "nbformat_minor": 4
}
