{
 "cells": [
  {
   "cell_type": "markdown",
   "metadata": {},
   "source": [
    "# Code challenge, matrix inverse for a non-square matrix"
   ]
  },
  {
   "cell_type": "code",
   "execution_count": 10,
   "metadata": {},
   "outputs": [],
   "source": [
    "import numpy as np\n",
    "import pandas as pd\n",
    "import matplotlib.pyplot as plt\n"
   ]
  },
  {
   "cell_type": "code",
   "execution_count": 34,
   "metadata": {},
   "outputs": [
    {
     "name": "stdout",
     "output_type": "stream",
     "text": [
      "The original matrix is\n",
      "[[ 4 24 61 28 76]\n",
      " [21 36 15 32 32]\n",
      " [32 51  0 95 49]]\n",
      "\n",
      "We need to right multiply the transpose in order to create a squared matrix. \n",
      "For the matrix multiplication to be valid, inner dimmentions must match\n",
      "\n",
      "The result of Matrix*Matrix^T is\n",
      "[[10873  5191  7736]\n",
      " [ 5191  4010  7116]\n",
      " [ 7736  7116 15051]]\n",
      "\n",
      "The inverse Matrix of the squared is\n",
      "[[ 0.0003 -0.0007  0.0002]\n",
      " [-0.0007  0.0033 -0.0012]\n",
      " [ 0.0002 -0.0012  0.0005]]\n",
      "\n",
      "By multiplying Matrix*Matrix^T*Inverse, the result is the identity matrix\n",
      "[[ 1.  0. -0.]\n",
      " [-0.  1. -0.]\n",
      " [ 0. -0.  1.]]\n"
     ]
    },
    {
     "data": {
      "text/plain": [
       "Text(0.5, 1.0, 'identity matrix')"
      ]
     },
     "execution_count": 34,
     "metadata": {},
     "output_type": "execute_result"
    },
    {
     "data": {
      "image/png": "[encoded data removed]",
      "text/plain": [
       "<Figure size 432x288 with 4 Axes>"
      ]
     },
     "metadata": {
      "needs_background": "light"
     },
     "output_type": "display_data"
    }
   ],
   "source": [
    "#step 1, defining matrix size\n",
    "rows = 3\n",
    "columns = 5\n",
    "\n",
    "\n",
    "\n",
    "matrix = np.random.randint(100, size=(rows, columns))\n",
    "\n",
    "#step 2, for the matrix multiplication to be valid, inner dimmentions must match\n",
    "\n",
    "square = matrix@matrix.T\n",
    "inverse = np.linalg.inv(square)\n",
    "\n",
    "print(\"The original matrix is\")\n",
    "print(matrix)\n",
    "\n",
    "print(\"\\nWe need to right multiply the transpose in order to create a squared matrix. \\nFor the matrix multiplication to be valid, inner dimmentions must match\\n\")\n",
    "\n",
    "\n",
    "print(\"The result of Matrix*Matrix^T is\")\n",
    "print(square)\n",
    "\n",
    "print(\"\\nThe inverse Matrix of the squared is\")\n",
    "print(inverse.round(decimals=4))\n",
    "\n",
    "\n",
    "print(\"\\nBy multiplying Matrix*Matrix^T*Inverse, the result is the identity matrix\")\n",
    "identity = (matrix@matrix.T)@inverse\n",
    "print(identity.round(decimals=0))\n",
    "\n",
    "plt.subplot(331)\n",
    "plt.imshow(matrix), plt.axis('off')\n",
    "plt.title('Original matrix')\n",
    "\n",
    "plt.subplot(332)\n",
    "plt.imshow(square), plt.axis('off')\n",
    "plt.title('Squared matrix')\n",
    "\n",
    "plt.subplot(333)\n",
    "plt.imshow(inverse), plt.axis('off')\n",
    "plt.title('Inverse matrix')\n",
    "\n",
    "plt.subplot(334)\n",
    "plt.imshow(identity), plt.axis('off')\n",
    "plt.title('identity matrix')"
   ]
  },
  {
   "cell_type": "code",
   "execution_count": 39,
   "metadata": {},
   "outputs": [
    {
     "name": "stdout",
     "output_type": "stream",
     "text": [
      "The original matrix is\n",
      "[[2 0 1]\n",
      " [0 2 0]\n",
      " [2 2 0]\n",
      " [3 4 3]\n",
      " [4 1 2]]\n",
      "\n",
      "We need to right multiply the transpose in order to create a squared matrix. \n",
      "For the matrix multiplication to be valid, inner dimmentions must match\n",
      "\n",
      "The result of Matrix^T*Matrix is\n",
      "[[33 20 19]\n",
      " [20 25 14]\n",
      " [19 14 14]]\n",
      "\n",
      "The inverse Matrix of the squared is\n",
      "[[ 0.1404 -0.0128 -0.1778]\n",
      " [-0.0128  0.0921 -0.0747]\n",
      " [-0.1778 -0.0747  0.3874]]\n",
      "\n",
      "By multiplying Inverse*Matrix^T*Matrix, the result is the identity matrix\n",
      "[[ 1.  0.  0.]\n",
      " [-0.  1. -0.]\n",
      " [-0. -0.  1.]]\n"
     ]
    },
    {
     "data": {
      "text/plain": [
       "Text(0.5, 1.0, 'identity matrix')"
      ]
     },
     "execution_count": 39,
     "metadata": {},
     "output_type": "execute_result"
    },
    {
     "data": {
      "image/png": "[encoded data removed]",
      "text/plain": [
       "<Figure size 432x288 with 4 Axes>"
      ]
     },
     "metadata": {
      "needs_background": "light"
     },
     "output_type": "display_data"
    }
   ],
   "source": [
    "#This time, the original matrix is a rectangular Matrix with more rows than columns \n",
    "rows = 5\n",
    "columns = 3\n",
    "\n",
    "\n",
    "\n",
    "matrix = np.random.randint(5, size=(rows, columns))\n",
    "\n",
    "#step 2, for the matrix multiplication to be valid, inner dimmentions must match, the order has changed compared with the first example\n",
    "#This time the transpose is left-multiplying the original matrix\n",
    "\n",
    "square = matrix.T@matrix\n",
    "inverse = np.linalg.inv(square)\n",
    "\n",
    "print(\"The original matrix is\")\n",
    "print(matrix)\n",
    "\n",
    "print(\"\\nWe need to left multiply the transpose in order to create a squared matrix. \\nFor the matrix multiplication to be valid, inner dimmentions must match\\n\")\n",
    "\n",
    "\n",
    "print(\"The result of Matrix^T*Matrix is\")\n",
    "print(square)\n",
    "\n",
    "print(\"\\nThe inverse Matrix of the squared is\")\n",
    "print(inverse.round(decimals=4))\n",
    "\n",
    "\n",
    "print(\"\\nBy multiplying Inverse*Matrix^T*Matrix, the result is the identity matrix\")\n",
    "identity = inverse@(matrix.T@matrix)\n",
    "print(identity.round(decimals=0))\n",
    "\n",
    "plt.subplot(335)\n",
    "plt.imshow(matrix), plt.axis('off')\n",
    "plt.title('Original matrix')\n",
    "\n",
    "plt.subplot(336)\n",
    "plt.imshow(square), plt.axis('off')\n",
    "plt.title('Squared matrix')\n",
    "\n",
    "plt.subplot(337)\n",
    "plt.imshow(inverse), plt.axis('off')\n",
    "plt.title('Inverse matrix')\n",
    "\n",
    "plt.subplot(338)\n",
    "plt.imshow(identity), plt.axis('off')\n",
    "plt.title('identity matrix')"
   ]
  },
  {
   "cell_type": "code",
   "execution_count": null,
   "metadata": {},
   "outputs": [],
   "source": []
  },
  {
   "cell_type": "code",
   "execution_count": null,
   "metadata": {},
   "outputs": [],
   "source": []
  },
  {
   "cell_type": "code",
   "execution_count": null,
   "metadata": {},
   "outputs": [],
   "source": []
  }
 ],
 "metadata": {
  "kernelspec": {
   "display_name": "Python 3",
   "language": "python",
   "name": "python3"
  },
  "language_info": {
   "codemirror_mode": {
    "name": "ipython",
    "version": 3
   },
   "file_extension": ".py",
   "mimetype": "text/x-python",
   "name": "python",
   "nbconvert_exporter": "python",
   "pygments_lexer": "ipython3",
   "version": "3.7.6"
  }
 },
 "nbformat": 4,
 "nbformat_minor": 4
}
