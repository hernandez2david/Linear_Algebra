{
 "cells": [
  {
   "cell_type": "code",
   "execution_count": 1,
   "metadata": {},
   "outputs": [],
   "source": [
    "import numpy as np\n",
    "import pandas as pd\n",
    "import math\n",
    "import matplotlib.pyplot as plt\n",
    "\n"
   ]
  },
  {
   "cell_type": "code",
   "execution_count": 2,
   "metadata": {},
   "outputs": [
    {
     "data": {
      "image/png": "[encoded data removed]",
      "text/plain": [
       "<Figure size 432x288 with 1 Axes>"
      ]
     },
     "metadata": {
      "needs_background": "light"
     },
     "output_type": "display_data"
    }
   ],
   "source": [
    "# pure rotation matrix vs impure rotation\n",
    "v = np.array([[3],[2]])\n",
    "set_values = np.linspace(0,2*np.pi,100)\n",
    "save = np.zeros((len(set_values),2))\n",
    "\n",
    "\n",
    "for i in range(len(set_values)):\n",
    "    angle = set_values[i]\n",
    "    rotation_matrixP = np.array([[2*math.cos(angle),-math.sin(angle)],\n",
    "                                [math.sin(angle), math.cos(angle)]])\n",
    "    rotation_matrixI = np.array([[math.cos(angle),-math.sin(angle)],\n",
    "                                [math.sin(angle), math.cos(angle)]])\n",
    "    save[i][0] = np.linalg.norm(rotation_matrixP@v)\n",
    "    save[i][1] = np.linalg.norm(rotation_matrixI@v)\n",
    "    \n",
    "\n",
    "plt.plot(set_values,save,\"o-\")\n",
    "plt.xlabel(\"Rotation Angle (rad.) \")\n",
    "plt.ylabel(\"Av Magnitude \")\n",
    "plt.legend([\"Pure Rotation\",\"Impure Rotation\"])\n",
    "plt.grid()\n",
    "plt.show()\n"
   ]
  },
  {
   "cell_type": "code",
   "execution_count": 4,
   "metadata": {},
   "outputs": [
    {
     "data": {
      "text/plain": [
       "array([0.        , 0.06346652, 0.12693304, 0.19039955, 0.25386607,\n",
       "       0.31733259, 0.38079911, 0.44426563, 0.50773215, 0.57119866,\n",
       "       0.63466518, 0.6981317 , 0.76159822, 0.82506474, 0.88853126,\n",
       "       0.95199777, 1.01546429, 1.07893081, 1.14239733, 1.20586385,\n",
       "       1.26933037, 1.33279688, 1.3962634 , 1.45972992, 1.52319644,\n",
       "       1.58666296, 1.65012947, 1.71359599, 1.77706251, 1.84052903,\n",
       "       1.90399555, 1.96746207, 2.03092858, 2.0943951 , 2.15786162,\n",
       "       2.22132814, 2.28479466, 2.34826118, 2.41172769, 2.47519421,\n",
       "       2.53866073, 2.60212725, 2.66559377, 2.72906028, 2.7925268 ,\n",
       "       2.85599332, 2.91945984, 2.98292636, 3.04639288, 3.10985939,\n",
       "       3.17332591, 3.23679243, 3.30025895, 3.36372547, 3.42719199,\n",
       "       3.4906585 , 3.55412502, 3.61759154, 3.68105806, 3.74452458,\n",
       "       3.8079911 , 3.87145761, 3.93492413, 3.99839065, 4.06185717,\n",
       "       4.12532369, 4.1887902 , 4.25225672, 4.31572324, 4.37918976,\n",
       "       4.44265628, 4.5061228 , 4.56958931, 4.63305583, 4.69652235,\n",
       "       4.75998887, 4.82345539, 4.88692191, 4.95038842, 5.01385494,\n",
       "       5.07732146, 5.14078798, 5.2042545 , 5.26772102, 5.33118753,\n",
       "       5.39465405, 5.45812057, 5.52158709, 5.58505361, 5.64852012,\n",
       "       5.71198664, 5.77545316, 5.83891968, 5.9023862 , 5.96585272,\n",
       "       6.02931923, 6.09278575, 6.15625227, 6.21971879, 6.28318531])"
      ]
     },
     "execution_count": 4,
     "metadata": {},
     "output_type": "execute_result"
    }
   ],
   "source": [
    "set_values"
   ]
  },
  {
   "cell_type": "code",
   "execution_count": 3,
   "metadata": {},
   "outputs": [
    {
     "data": {
      "text/plain": [
       "array([[6.32455532, 3.60555128],\n",
       "       [6.25554436, 3.60555128],\n",
       "       [6.16931273, 3.60555128],\n",
       "       [6.06654699, 3.60555128],\n",
       "       [5.94809097, 3.60555128],\n",
       "       [5.81495494, 3.60555128],\n",
       "       [5.66832739, 3.60555128],\n",
       "       [5.50959002, 3.60555128],\n",
       "       [5.34033625, 3.60555128],\n",
       "       [5.16239389, 3.60555128],\n",
       "       [4.97785211, 3.60555128],\n",
       "       [4.78909218, 3.60555128],\n",
       "       [4.5988207 , 3.60555128],\n",
       "       [4.41010169, 3.60555128],\n",
       "       [4.22638088, 3.60555128],\n",
       "       [4.05149079, 3.60555128],\n",
       "       [3.88961927, 3.60555128],\n",
       "       [3.74521829, 3.60555128],\n",
       "       [3.62282799, 3.60555128],\n",
       "       [3.52679967, 3.60555128],\n",
       "       [3.46092574, 3.60555128],\n",
       "       [3.42802601, 3.60555128],\n",
       "       [3.42958143, 3.60555128],\n",
       "       [3.46552084, 3.60555128],\n",
       "       [3.53423157, 3.60555128],\n",
       "       [3.63279015, 3.60555128],\n",
       "       [3.75733727, 3.60555128],\n",
       "       [3.90349077, 3.60555128],\n",
       "       [4.06670862, 3.60555128],\n",
       "       [4.24255681, 3.60555128],\n",
       "       [4.42687668, 3.60555128],\n",
       "       [4.6158698 , 3.60555128],\n",
       "       [4.80612529, 3.60555128],\n",
       "       [4.99461234, 3.60555128],\n",
       "       [5.1786549 , 3.60555128],\n",
       "       [5.35589922, 3.60555128],\n",
       "       [5.5242808 , 3.60555128],\n",
       "       [5.68199386, 3.60555128],\n",
       "       [5.82746484, 3.60555128],\n",
       "       [5.95933008, 3.60555128],\n",
       "       [6.07641762, 3.60555128],\n",
       "       [6.17773257, 3.60555128],\n",
       "       [6.26244553, 3.60555128],\n",
       "       [6.32988367, 3.60555128],\n",
       "       [6.37952394, 3.60555128],\n",
       "       [6.41098804, 3.60555128],\n",
       "       [6.42403905, 3.60555128],\n",
       "       [6.41857934, 3.60555128],\n",
       "       [6.39464971, 3.60555128],\n",
       "       [6.35242974, 3.60555128],\n",
       "       [6.2922394 , 3.60555128],\n",
       "       [6.21454181, 3.60555128],\n",
       "       [6.11994766, 3.60555128],\n",
       "       [6.00922115, 3.60555128],\n",
       "       [5.88328801, 3.60555128],\n",
       "       [5.74324597, 3.60555128],\n",
       "       [5.59037806, 3.60555128],\n",
       "       [5.42616924, 3.60555128],\n",
       "       [5.25232704, 3.60555128],\n",
       "       [5.07080633, 3.60555128],\n",
       "       [4.88383827, 3.60555128],\n",
       "       [4.6939626 , 3.60555128],\n",
       "       [4.50406091, 3.60555128],\n",
       "       [4.3173859 , 3.60555128],\n",
       "       [4.13757786, 3.60555128],\n",
       "       [3.96865406, 3.60555128],\n",
       "       [3.81495053, 3.60555128],\n",
       "       [3.68099147, 3.60555128],\n",
       "       [3.57126364, 3.60555128],\n",
       "       [3.48988958, 3.60555128],\n",
       "       [3.44022667, 3.60555128],\n",
       "       [3.42446384, 3.60555128],\n",
       "       [3.44331955, 3.60555128],\n",
       "       [3.49593573, 3.60555128],\n",
       "       [3.58000406, 3.60555128],\n",
       "       [3.69208143, 3.60555128],\n",
       "       [3.82799701, 3.60555128],\n",
       "       [3.98324873, 3.60555128],\n",
       "       [4.15332163, 3.60555128],\n",
       "       [4.33390417, 3.60555128],\n",
       "       [4.52101138, 3.60555128],\n",
       "       [4.71103784, 3.60555128],\n",
       "       [4.90076507, 3.60555128],\n",
       "       [5.08734345, 3.60555128],\n",
       "       [5.26826228, 3.60555128],\n",
       "       [5.44131645, 3.60555128],\n",
       "       [5.6045744 , 3.60555128],\n",
       "       [5.75634953, 3.60555128],\n",
       "       [5.89517573, 3.60555128],\n",
       "       [6.01978725, 3.60555128],\n",
       "       [6.12910227, 3.60555128],\n",
       "       [6.22220993, 3.60555128],\n",
       "       [6.29836009, 3.60555128],\n",
       "       [6.35695553, 3.60555128],\n",
       "       [6.3975461 , 3.60555128],\n",
       "       [6.41982453, 3.60555128],\n",
       "       [6.42362373, 3.60555128],\n",
       "       [6.40891531, 3.60555128],\n",
       "       [6.37580934, 3.60555128],\n",
       "       [6.32455532, 3.60555128]])"
      ]
     },
     "execution_count": 3,
     "metadata": {},
     "output_type": "execute_result"
    }
   ],
   "source": [
    "save"
   ]
  },
  {
   "cell_type": "code",
   "execution_count": null,
   "metadata": {},
   "outputs": [],
   "source": []
  }
 ],
 "metadata": {
  "kernelspec": {
   "display_name": "Python 3",
   "language": "python",
   "name": "python3"
  },
  "language_info": {
   "codemirror_mode": {
    "name": "ipython",
    "version": 3
   },
   "file_extension": ".py",
   "mimetype": "text/x-python",
   "name": "python",
   "nbconvert_exporter": "python",
   "pygments_lexer": "ipython3",
   "version": "3.7.6"
  }
 },
 "nbformat": 4,
 "nbformat_minor": 4
}
