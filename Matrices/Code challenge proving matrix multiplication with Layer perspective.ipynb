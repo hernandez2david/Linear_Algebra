{
 "cells": [
  {
   "cell_type": "markdown",
   "metadata": {},
   "source": [
    "# Code challenge, proving matrix multiplication with Layer perspective\n",
    "\n",
    "Method: \n",
    "\n",
    "|a c| * |1 2| = |a*1  a*2| + |c*3  c*4| = |a+3c  2a+4c|\n",
    "\n",
    "|b d|   |3 4|   |b*1  b*2|   |d*3  d*4|   |b+3d  2b+4d|\n",
    "\n",
    "The method is slightly different from the traditional dot-product collection.\n",
    "(See the link as example)\n",
    "https://cdn.kastatic.org/googleusercontent/rk4fR1jNJsGUfdHOc87UzuQh2zokwYDoVo3Hk1m3s6ToGDgW6KxgrsUeIj8-CJeV6cNf6WB8B6sRHt3BoGBdVY7h"
   ]
  },
  {
   "cell_type": "code",
   "execution_count": 1,
   "metadata": {},
   "outputs": [
    {
     "name": "stdout",
     "output_type": "stream",
     "text": [
      "[[67 56 15 63]\n",
      " [41 23 50 62]\n",
      " [ 8 29 78 36]\n",
      " [66  8 98 73]]\n",
      "...\n",
      "[[33 99 12 14]\n",
      " [68 82 55 70]\n",
      " [85 30 80 61]\n",
      " [ 2 15 78 74]]\n",
      "...\n"
     ]
    }
   ],
   "source": [
    "import numpy as np\n",
    "import pandas as pd\n",
    "\n",
    "Matrix1 = np.random.randint(100, size=(4, 4))\n",
    "Matrix2 = np.random.randint(100, size=(4, 4))\n",
    "\n",
    "#use a for loop to multiply the matrices element by element and then compare against the built-in method\n",
    "print(Matrix1)\n",
    "print(\"...\")\n",
    "print(Matrix2)\n",
    "print(\"...\")\n",
    "\n"
   ]
  },
  {
   "cell_type": "code",
   "execution_count": 19,
   "metadata": {},
   "outputs": [
    {
     "name": "stdout",
     "output_type": "stream",
     "text": [
      "[[67]\n",
      " [41]\n",
      " [ 8]\n",
      " [66]]\n",
      "[33 99 12 14]\n"
     ]
    }
   ],
   "source": [
    "#Slicing rows and columns\n",
    "\n",
    "vc = Matrix1[:, 0].reshape(4,1)\n",
    "print(vc)\n",
    "print(Matrix2[0])\n",
    "\n"
   ]
  },
  {
   "cell_type": "code",
   "execution_count": 32,
   "metadata": {},
   "outputs": [
    {
     "name": "stdout",
     "output_type": "stream",
     "text": [
      "[[ 7420. 12620.  9998. 10435.]\n",
      " [ 7291.  8375. 10593.  9822.]\n",
      " [ 8938.  6050. 10739.  9564.]\n",
      " [11198. 11225. 14766. 12864.]]\n"
     ]
    }
   ],
   "source": [
    "#Creating and summing the layers the layers\n",
    "\n",
    "m1Xm2 = np.zeros(4)\n",
    "for i in range(4):\n",
    "    layer = Matrix1[:, i].reshape(4,1)*Matrix2[i]\n",
    "    m1Xm2  = m1Xm2+layer\n",
    "    #print(layer)\n",
    "print(m1Xm2)"
   ]
  },
  {
   "cell_type": "code",
   "execution_count": 30,
   "metadata": {},
   "outputs": [
    {
     "data": {
      "text/plain": [
       "array([[ 7420, 12620,  9998, 10435],\n",
       "       [ 7291,  8375, 10593,  9822],\n",
       "       [ 8938,  6050, 10739,  9564],\n",
       "       [11198, 11225, 14766, 12864]])"
      ]
     },
     "execution_count": 30,
     "metadata": {},
     "output_type": "execute_result"
    }
   ],
   "source": [
    "#Proving against the built-in method\n",
    "np.dot(Matrix1,Matrix2)"
   ]
  },
  {
   "cell_type": "code",
   "execution_count": null,
   "metadata": {},
   "outputs": [],
   "source": [
    "#The matrix is the same. "
   ]
  },
  {
   "cell_type": "code",
   "execution_count": null,
   "metadata": {},
   "outputs": [],
   "source": []
  }
 ],
 "metadata": {
  "kernelspec": {
   "display_name": "Python 3",
   "language": "python",
   "name": "python3"
  },
  "language_info": {
   "codemirror_mode": {
    "name": "ipython",
    "version": 3
   },
   "file_extension": ".py",
   "mimetype": "text/x-python",
   "name": "python",
   "nbconvert_exporter": "python",
   "pygments_lexer": "ipython3",
   "version": "3.7.6"
  }
 },
 "nbformat": 4,
 "nbformat_minor": 4
}
