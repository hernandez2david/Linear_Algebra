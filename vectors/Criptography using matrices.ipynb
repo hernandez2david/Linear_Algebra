{
 "cells": [
  {
   "cell_type": "code",
   "execution_count": 1,
   "metadata": {},
   "outputs": [],
   "source": [
    "import numpy as np\n",
    "import string"
   ]
  },
  {
   "cell_type": "code",
   "execution_count": 2,
   "metadata": {},
   "outputs": [],
   "source": [
    "#Encodes a message with a matrix as key\n",
    "\n",
    "#code matrix\n",
    "matrix = np.array([[5,3],[2,1]])"
   ]
  },
  {
   "cell_type": "code",
   "execution_count": 3,
   "metadata": {},
   "outputs": [],
   "source": [
    "#dictionary to convert numbers in letters and vice_versa\n",
    "alphabet = string.ascii_lowercase \n",
    "\n",
    "#use this dictionary to convert numbers to letters\n",
    "dictionary_numStrings = {}\n",
    "#use this dictionary to convert letters to numbers\n",
    "dictionary_Stringsnum = {}\n",
    "for i in range(len(alphabet)):\n",
    "        dictionary_numStrings[i+1] = alphabet[i]\n",
    "        dictionary_Stringsnum[alphabet[i]] = i+1\n",
    "        \n",
    "\n"
   ]
  },
  {
   "cell_type": "code",
   "execution_count": 4,
   "metadata": {},
   "outputs": [],
   "source": [
    "message = \"sendhimmoney\"\n",
    "coded_vector = []\n",
    "for i in message:\n",
    "    coded_vector.append(dictionary_Stringsnum[i])\n",
    "\n",
    "#since it´s a 2x2 matrix, the vectors must be divided in 2x1 and then multiplied. We will add an additional letter to complete the pair requierement\n",
    "if len(coded_vector)%2 != 0:\n",
    "    coded_vector.append(0)\n"
   ]
  },
  {
   "cell_type": "code",
   "execution_count": 5,
   "metadata": {},
   "outputs": [
    {
     "data": {
      "text/plain": [
       "[110, 43, 82, 32, 67, 25, 104, 39, 117, 44, 100, 35]"
      ]
     },
     "execution_count": 5,
     "metadata": {},
     "output_type": "execute_result"
    }
   ],
   "source": [
    "#function to encode using the matrix\n",
    "encoded = []\n",
    "for i in range(0,len(coded_vector),2):\n",
    "    new = np.dot(matrix,coded_vector[i:i+2])\n",
    "    encoded.append(new[0])\n",
    "    encoded.append(new[1])\n",
    "    \n",
    "encoded\n",
    "\n",
    "    \n"
   ]
  },
  {
   "cell_type": "code",
   "execution_count": 6,
   "metadata": {},
   "outputs": [
    {
     "data": {
      "text/plain": [
       "[15, 6, 3, 15, 21, 18, 19, 5]"
      ]
     },
     "execution_count": 6,
     "metadata": {},
     "output_type": "execute_result"
    }
   ],
   "source": [
    "to_decode = [93,36,60,21,159,60,110,43]\n",
    "if len(to_decode)%2 != 0:\n",
    "    to_decode.append(0)\n",
    "    \n",
    "inverse_matrix = np.linalg.inv(matrix)\n",
    "\n",
    "re_coded = []\n",
    "for i in range(0,len(to_decode),2):\n",
    "    new = np.dot(inverse_matrix,to_decode[i:i+2])\n",
    "    re_coded.append(new[0])\n",
    "    re_coded.append(new[1])\n",
    "    \n",
    "for i in range(len(re_coded)):\n",
    "    re_coded[i] = int(re_coded[i])\n",
    "re_coded\n"
   ]
  },
  {
   "cell_type": "code",
   "execution_count": 7,
   "metadata": {},
   "outputs": [],
   "source": [
    "decoded = \"\"\n",
    "for i in range(len(re_coded)):\n",
    "    decoded = decoded + dictionary_numStrings[re_coded[i]]"
   ]
  },
  {
   "cell_type": "code",
   "execution_count": 8,
   "metadata": {},
   "outputs": [
    {
     "name": "stdout",
     "output_type": "stream",
     "text": [
      "ofcourse\n"
     ]
    }
   ],
   "source": [
    "print(decoded)"
   ]
  },
  {
   "cell_type": "code",
   "execution_count": null,
   "metadata": {},
   "outputs": [],
   "source": []
  },
  {
   "cell_type": "code",
   "execution_count": null,
   "metadata": {},
   "outputs": [],
   "source": []
  }
 ],
 "metadata": {
  "kernelspec": {
   "display_name": "Python 3",
   "language": "python",
   "name": "python3"
  },
  "language_info": {
   "codemirror_mode": {
    "name": "ipython",
    "version": 3
   },
   "file_extension": ".py",
   "mimetype": "text/x-python",
   "name": "python",
   "nbconvert_exporter": "python",
   "pygments_lexer": "ipython3",
   "version": "3.7.6"
  }
 },
 "nbformat": 4,
 "nbformat_minor": 4
}
