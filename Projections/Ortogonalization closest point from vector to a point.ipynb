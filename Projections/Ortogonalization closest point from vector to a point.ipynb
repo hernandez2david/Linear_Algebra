{
 "cells": [
  {
   "cell_type": "code",
   "execution_count": 2,
   "metadata": {},
   "outputs": [],
   "source": [
    "import numpy as np\n",
    "import matplotlib.pyplot as plt\n",
    "import math"
   ]
  },
  {
   "cell_type": "code",
   "execution_count": 29,
   "metadata": {},
   "outputs": [
    {
     "name": "stdout",
     "output_type": "stream",
     "text": [
      "vector\n",
      "[4 3]\n",
      "paralel\n",
      "[2.72 2.04]\n",
      "perpendicular\n",
      "[-0.72  0.96]\n",
      "The scaling factor (Beta) is 0.68\n"
     ]
    },
    {
     "data": {
      "image/png": "[encoded data removed]",
      "text/plain": [
       "<Figure size 432x288 with 1 Axes>"
      ]
     },
     "metadata": {
      "needs_background": "light"
     },
     "output_type": "display_data"
    }
   ],
   "source": [
    "#Create a vector in R2\n",
    "\n",
    "vector = np.array([4,3])\n",
    "point = np.array([2, 3])\n",
    "\n",
    "\n",
    "beta = (vector.T@point) / (vector.T@vector)\n",
    "\n",
    "paralel = beta*vector\n",
    "perpendicular = point - paralel\n",
    "\n",
    "print(\"vector\")\n",
    "print(vector)\n",
    "\n",
    "print(\"paralel\")\n",
    "print(paralel)\n",
    "\n",
    "print(\"perpendicular\")\n",
    "print(perpendicular)\n",
    "\n",
    "print( \"The scaling factor (Beta) is \" + str(beta))\n",
    "\n",
    "#plot them\n",
    "plt.plot([0, vector[0]],[0, vector[1]],'b',label='V')\n",
    "plt.plot([0, point[0]],[0, point[1]],'r',label='W')\n",
    "plt.plot([0, paralel[0]],[0, paralel[1]],'y',label='paralel vector')\n",
    "plt.plot([0, perpendicular[0]],[0, perpendicular[1]],'g',label='Perpendicular vector')\n",
    "\n",
    "plt.plot([0, vector[0]*beta],[0, vector[1]*beta],'--',label='Escalated Vector')\n",
    "\n",
    "plt.plot([point[0], vector[0]*beta],[point[1], vector[1]*beta],'--',label='Closest distance to the point')\n",
    "\n",
    "plt.plot([point[0]],[point[1]],'-o',label='Point')\n",
    "\n",
    "\n",
    "plt.legend()\n",
    "plt.axis('square')\n",
    "plt.axis((-1, 9, -1, 9))\n",
    "plt.grid()\n",
    "plt.show()"
   ]
  },
  {
   "cell_type": "code",
   "execution_count": 17,
   "metadata": {},
   "outputs": [
    {
     "name": "stdout",
     "output_type": "stream",
     "text": [
      "-1.3322676295501878e-15\n"
     ]
    }
   ],
   "source": [
    "dot_pp = paralel@perpendicular\n",
    "print(dot_pp)"
   ]
  },
  {
   "cell_type": "code",
   "execution_count": 23,
   "metadata": {},
   "outputs": [
    {
     "data": {
      "text/plain": [
       "array([0., 0.])"
      ]
     },
     "execution_count": 23,
     "metadata": {},
     "output_type": "execute_result"
    }
   ],
   "source": [
    "point - (paralel+perpendicular)"
   ]
  },
  {
   "cell_type": "code",
   "execution_count": null,
   "metadata": {},
   "outputs": [],
   "source": []
  }
 ],
 "metadata": {
  "kernelspec": {
   "display_name": "Python 3",
   "language": "python",
   "name": "python3"
  },
  "language_info": {
   "codemirror_mode": {
    "name": "ipython",
    "version": 3
   },
   "file_extension": ".py",
   "mimetype": "text/x-python",
   "name": "python",
   "nbconvert_exporter": "python",
   "pygments_lexer": "ipython3",
   "version": "3.7.6"
  }
 },
 "nbformat": 4,
 "nbformat_minor": 4
}
