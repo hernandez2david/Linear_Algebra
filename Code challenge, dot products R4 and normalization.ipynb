{
 "cells": [
  {
   "cell_type": "markdown",
   "metadata": {},
   "source": [
    "# Code challenge, dot products (R4) and normalization"
   ]
  },
  {
   "cell_type": "code",
   "execution_count": 1,
   "metadata": {},
   "outputs": [],
   "source": [
    "import numpy as np\n",
    "import pandas as pd\n",
    "\n",
    "\n",
    "#Task1: Generate 2 random integer vectors (R4)\n",
    "Vector1 = np.random.randint(100, size=(4))\n",
    "Vector2 = np.random.randint(100, size=(4))\n",
    "\n"
   ]
  },
  {
   "cell_type": "code",
   "execution_count": 2,
   "metadata": {},
   "outputs": [],
   "source": [
    "#Task2: Compute the lenght of each vector\n",
    "\n",
    "lenght_v1 = np.sqrt(sum(np.multiply(Vector1,Vector1)))\n",
    "lenght_v2 = np.sqrt(sum(np.multiply(Vector2,Vector2)))\n",
    "\n",
    "dot_v1_v2 = np.dot(lenght_v1,lenght_v2)"
   ]
  },
  {
   "cell_type": "code",
   "execution_count": 3,
   "metadata": {},
   "outputs": [],
   "source": [
    "#Task3: Normalize each vector to get an unitary vector and the obtain the magnitude of their dot products\n",
    "\n",
    "normalized_v1 = np.linalg.norm(Vector1)\n",
    "normalized_v2 = np.linalg.norm(Vector2)\n",
    "magnitude_norm = np.dot(normalized_v1,normalized_v2)"
   ]
  },
  {
   "cell_type": "code",
   "execution_count": 4,
   "metadata": {},
   "outputs": [
    {
     "name": "stdout",
     "output_type": "stream",
     "text": [
      "15328.294621385641\n",
      "15328.294621385641\n"
     ]
    }
   ],
   "source": [
    "print(dot_v1_v2)\n",
    "print(magnitude_norm)"
   ]
  },
  {
   "cell_type": "code",
   "execution_count": 5,
   "metadata": {},
   "outputs": [],
   "source": [
    "#with this we can conclude that is the same to obtain the values by obtaining the individual magnitudes of each vector and multiply it, and to obtain the dot prodcut between normalized vectors."
   ]
  },
  {
   "cell_type": "code",
   "execution_count": null,
   "metadata": {},
   "outputs": [],
   "source": []
  }
 ],
 "metadata": {
  "kernelspec": {
   "display_name": "Python 3",
   "language": "python",
   "name": "python3"
  },
  "language_info": {
   "codemirror_mode": {
    "name": "ipython",
    "version": 3
   },
   "file_extension": ".py",
   "mimetype": "text/x-python",
   "name": "python",
   "nbconvert_exporter": "python",
   "pygments_lexer": "ipython3",
   "version": "3.7.6"
  }
 },
 "nbformat": 4,
 "nbformat_minor": 4
}
