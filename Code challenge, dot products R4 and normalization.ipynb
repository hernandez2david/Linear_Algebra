{
 "cells": [
  {
   "cell_type": "markdown",
   "metadata": {},
   "source": [
    "# Code challenge, dot products (R4) and normalization"
   ]
  },
  {
   "cell_type": "code",
   "execution_count": 7,
   "metadata": {},
   "outputs": [],
   "source": [
    "import numpy as np\n",
    "import pandas as pd\n",
    "\n",
    "\n",
    "#Task1: Generate 2 random integer vectors (R4)\n",
    "Vector1 = np.random.randint(100, size=(4))\n",
    "Vector2 = np.random.randint(100, size=(4))\n",
    "\n"
   ]
  },
  {
   "cell_type": "code",
   "execution_count": 17,
   "metadata": {},
   "outputs": [
    {
     "name": "stdout",
     "output_type": "stream",
     "text": [
      "5905.7009744822\n"
     ]
    }
   ],
   "source": [
    "#Task2: Compute the lenght of each vector\n",
    "\n",
    "lenght_v1 = np.sqrt(sum(np.multiply(Vector1,Vector1)))\n",
    "lenght_v2 = np.sqrt(sum(np.multiply(Vector2,Vector2)))\n",
    "\n",
    "dot_v1_v2 = np.dot(lenght_v1,lenght_v2)\n"
   ]
  },
  {
   "cell_type": "code",
   "execution_count": 14,
   "metadata": {},
   "outputs": [
    {
     "name": "stdout",
     "output_type": "stream",
     "text": [
      "128.96511156122807 45.79301256742124 5238\n"
     ]
    }
   ],
   "source": [
    "\n",
    "dp_norm = np.abs(np.dot(Vector1,Vector2))\n",
    "print(lenght_v1,lenght_v2,dp_norm)\n"
   ]
  },
  {
   "cell_type": "code",
   "execution_count": 20,
   "metadata": {},
   "outputs": [
    {
     "name": "stdout",
     "output_type": "stream",
     "text": [
      "[0.01832761 0.01412753 0.00840015 0.00038183] [0.00840015 0.00190913 0.00114548 0.00095456]\n"
     ]
    }
   ],
   "source": [
    "#\"Normalize\" the vectors\n",
    "\n",
    "nor_v1 = Vector1/dp_norm\n",
    "nor_v2 = Vector2/dp_norm\n",
    "\n",
    "print(nor_v1,nor_v2)\n",
    "\n",
    "lenght_nor = np.sqrt(sum(np.multiply(nor_v1,nor_v1)))\n"
   ]
  },
  {
   "cell_type": "code",
   "execution_count": 16,
   "metadata": {},
   "outputs": [
    {
     "name": "stdout",
     "output_type": "stream",
     "text": [
      "0.0006061965887664688\n"
     ]
    }
   ],
   "source": [
    "#Compute the magnitud of their dot products\n",
    "\n",
    "magnitude_dot = np.abs(np.dot(nor_v1,nor_v1))\n",
    "print(magnitude_dot)"
   ]
  },
  {
   "cell_type": "code",
   "execution_count": null,
   "metadata": {},
   "outputs": [],
   "source": []
  }
 ],
 "metadata": {
  "kernelspec": {
   "display_name": "Python 3",
   "language": "python",
   "name": "python3"
  },
  "language_info": {
   "codemirror_mode": {
    "name": "ipython",
    "version": 3
   },
   "file_extension": ".py",
   "mimetype": "text/x-python",
   "name": "python",
   "nbconvert_exporter": "python",
   "pygments_lexer": "ipython3",
   "version": "3.7.6"
  }
 },
 "nbformat": 4,
 "nbformat_minor": 4
}
