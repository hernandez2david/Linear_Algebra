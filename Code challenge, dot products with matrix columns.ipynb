{
 "cells": [
  {
   "cell_type": "markdown",
   "metadata": {},
   "source": [
    "# Dot product permutations\n",
    "Create 2 matrices 4x6, fill them with random numbers and compute the dot product between all the columns."
   ]
  },
  {
   "cell_type": "code",
   "execution_count": 2,
   "metadata": {},
   "outputs": [
    {
     "name": "stdout",
     "output_type": "stream",
     "text": [
      "This is the Matrix 1\n",
      "[[12 42 20 12 97 64]\n",
      " [19 20 95 39 78 97]\n",
      " [ 1 96 68  4 67 16]\n",
      " [ 6 53 74 70 89 30]]\n",
      "----------------------\n",
      "This is the Matrix 2\n",
      "[[75 59 67 19  7 53]\n",
      " [73 81 49 41 26 12]\n",
      " [13 99 42 73 45 94]\n",
      " [20 13 18 31 81 85]]\n"
     ]
    }
   ],
   "source": [
    "import numpy as np\n",
    "import pandas as pd\n",
    "\n",
    "Matrix1 = np.random.randint(100, size=(4, 6))\n",
    "Matrix2 = np.random.randint(100, size=(4, 6))\n",
    "\n",
    "#define the matrix that will store the results.\n",
    "Results_matrix = []\n",
    "Headers = [\"Column Matrix1\",\"Column Matrix2\",\"Dot product\"]\n",
    "\n",
    "print(\"This is the Matrix 1\")\n",
    "print(Matrix1)\n",
    "print(\"-\"*22)\n",
    "print(\"This is the Matrix 2\")\n",
    "print(Matrix2)"
   ]
  },
  {
   "cell_type": "code",
   "execution_count": 57,
   "metadata": {},
   "outputs": [
    {
     "name": "stdout",
     "output_type": "stream",
     "text": [
      "    Column Matrix1  Column Matrix2  Dot product\n",
      "0                0               0        14382\n",
      "1                0               1         5233\n",
      "2                0               2        15398\n",
      "3                0               3         9083\n",
      "4                0               4         7080\n",
      "5                0               5        14804\n",
      "6                1               0        17826\n",
      "7                1               1        10021\n",
      "8                1               2        17228\n",
      "9                1               3         8087\n",
      "10               1               4        11349\n",
      "11               1               5        14906\n",
      "12               2               0        21052\n",
      "13               2               1         8415\n",
      "14               2               2        22002\n",
      "15               2               3        15566\n",
      "16               2               4        10644\n",
      "17               2               5        20943\n",
      "18               3               0        14654\n",
      "19               3               1         9738\n",
      "20               3               2        13512\n",
      "21               3               3         6649\n",
      "22               3               4        10044\n",
      "23               3               5         9639\n",
      "24               4               0         4940\n",
      "25               4               1         2600\n",
      "26               4               2         4828\n",
      "27               4               3         2735\n",
      "28               4               4         3015\n",
      "29               4               5         4438\n",
      "30               5               0        14242\n",
      "31               5               1         9201\n",
      "32               5               2        13014\n",
      "33               5               3        10207\n",
      "34               5               4         9362\n",
      "35               5               5        10146\n"
     ]
    }
   ],
   "source": [
    "for i in range(6):\n",
    "    for j in range(6):\n",
    "        vector = [i,j,np.dot(Matrix1[:,i],Matrix2[:,j])]\n",
    "        Results_matrix.append(vector)\n",
    "\n",
    "#Data frame printing\n",
    "df = pd.DataFrame(data=Results_matrix,\n",
    "                columns = Headers)\n",
    "print(df)"
   ]
  },
  {
   "cell_type": "code",
   "execution_count": null,
   "metadata": {},
   "outputs": [],
   "source": []
  },
  {
   "cell_type": "code",
   "execution_count": null,
   "metadata": {},
   "outputs": [],
   "source": []
  }
 ],
 "metadata": {
  "kernelspec": {
   "display_name": "Python 3",
   "language": "python",
   "name": "python3"
  },
  "language_info": {
   "codemirror_mode": {
    "name": "ipython",
    "version": 3
   },
   "file_extension": ".py",
   "mimetype": "text/x-python",
   "name": "python",
   "nbconvert_exporter": "python",
   "pygments_lexer": "ipython3",
   "version": "3.7.6"
  }
 },
 "nbformat": 4,
 "nbformat_minor": 4
}
