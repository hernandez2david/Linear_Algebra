{
 "cells": [
  {
   "cell_type": "code",
   "execution_count": 1,
   "metadata": {},
   "outputs": [],
   "source": [
    "import numpy as np\n",
    "import pandas as pd\n",
    "import matplotlib.pyplot as plt"
   ]
  },
  {
   "cell_type": "code",
   "execution_count": 18,
   "metadata": {},
   "outputs": [
    {
     "name": "stdout",
     "output_type": "stream",
     "text": [
      "[[13 61 96]\n",
      " [53 89 29]\n",
      " [75 82 82]]\n"
     ]
    }
   ],
   "source": [
    "#step 1, defining matrix size\n",
    "rows = 3\n",
    "columns = 3\n",
    "\n",
    "\n",
    "\n",
    "matrix = np.random.randint(100, size=(rows, columns))\n",
    "print(matrix)"
   ]
  },
  {
   "cell_type": "code",
   "execution_count": 21,
   "metadata": {},
   "outputs": [],
   "source": [
    "#Step get the GS Matrix associated to the defined.\n",
    "\n",
    "Q,R = np.linalg.qr(matrix)"
   ]
  },
  {
   "cell_type": "code",
   "execution_count": 22,
   "metadata": {},
   "outputs": [
    {
     "name": "stdout",
     "output_type": "stream",
     "text": [
      "[[13. 61. 96.]\n",
      " [53. 89. 29.]\n",
      " [75. 82. 82.]]\n"
     ]
    }
   ],
   "source": [
    "matrix_2 = Q@R\n",
    "\n",
    "print(matrix_2)"
   ]
  },
  {
   "cell_type": "code",
   "execution_count": 23,
   "metadata": {},
   "outputs": [
    {
     "name": "stdout",
     "output_type": "stream",
     "text": [
      "[[-9.27523585e+01  3.24185123e-14  1.36557432e-14]\n",
      " [-1.25711089e+02  5.06233353e+01 -1.55431223e-15]\n",
      " [-9.63317823e+01  6.02691766e+01  6.21997916e+01]]\n",
      "[[ -92.75235846 -125.71108911  -96.33178227]\n",
      " [   0.           50.62333527   60.26917663]\n",
      " [   0.            0.           62.19979159]]\n"
     ]
    }
   ],
   "source": [
    "r = matrix.T@Q\n",
    "print(r)\n",
    "print(R)"
   ]
  },
  {
   "cell_type": "code",
   "execution_count": null,
   "metadata": {},
   "outputs": [],
   "source": []
  }
 ],
 "metadata": {
  "kernelspec": {
   "display_name": "Python 3",
   "language": "python",
   "name": "python3"
  },
  "language_info": {
   "codemirror_mode": {
    "name": "ipython",
    "version": 3
   },
   "file_extension": ".py",
   "mimetype": "text/x-python",
   "name": "python",
   "nbconvert_exporter": "python",
   "pygments_lexer": "ipython3",
   "version": "3.7.6"
  }
 },
 "nbformat": 4,
 "nbformat_minor": 4
}
